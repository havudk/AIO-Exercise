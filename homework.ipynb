{
 "cells": [
  {
   "cell_type": "code",
   "outputs": [
    {
     "ename": "TypeError",
     "evalue": "'int' object is not callable",
     "output_type": "error",
     "traceback": [
      "\u001B[0;31m---------------------------------------------------------------------------\u001B[0m",
      "\u001B[0;31mTypeError\u001B[0m                                 Traceback (most recent call last)",
      "Cell \u001B[0;32mIn[34], line 11\u001B[0m\n\u001B[1;32m      7\u001B[0m     \u001B[38;5;66;03m# End Code Here\u001B[39;00m\n\u001B[1;32m      8\u001B[0m     \u001B[38;5;28;01mreturn\u001B[39;00m result\n\u001B[0;32m---> 11\u001B[0m \u001B[38;5;28;01massert\u001B[39;00m \u001B[43mmax_kernel\u001B[49m\u001B[43m(\u001B[49m\u001B[43m[\u001B[49m\u001B[38;5;241;43m3\u001B[39;49m\u001B[43m,\u001B[49m\u001B[43m \u001B[49m\u001B[38;5;241;43m4\u001B[39;49m\u001B[43m,\u001B[49m\u001B[43m \u001B[49m\u001B[38;5;241;43m5\u001B[39;49m\u001B[43m,\u001B[49m\u001B[43m \u001B[49m\u001B[38;5;241;43m1\u001B[39;49m\u001B[43m,\u001B[49m\u001B[43m \u001B[49m\u001B[38;5;241;43m-\u001B[39;49m\u001B[38;5;241;43m44\u001B[39;49m\u001B[43m]\u001B[49m\u001B[43m,\u001B[49m\u001B[43m \u001B[49m\u001B[38;5;241;43m3\u001B[39;49m\u001B[43m)\u001B[49m \u001B[38;5;241m==\u001B[39m [\u001B[38;5;241m5\u001B[39m, \u001B[38;5;241m5\u001B[39m, \u001B[38;5;241m5\u001B[39m]\n\u001B[1;32m     12\u001B[0m num_list \u001B[38;5;241m=\u001B[39m [\u001B[38;5;241m3\u001B[39m, \u001B[38;5;241m4\u001B[39m, \u001B[38;5;241m5\u001B[39m, \u001B[38;5;241m1\u001B[39m, \u001B[38;5;241m-\u001B[39m\u001B[38;5;241m44\u001B[39m, \u001B[38;5;241m5\u001B[39m, \u001B[38;5;241m10\u001B[39m, \u001B[38;5;241m12\u001B[39m, \u001B[38;5;241m33\u001B[39m, \u001B[38;5;241m1\u001B[39m]\n\u001B[1;32m     13\u001B[0m k \u001B[38;5;241m=\u001B[39m \u001B[38;5;241m3\u001B[39m\n",
      "Cell \u001B[0;32mIn[34], line 6\u001B[0m, in \u001B[0;36mmax_kernel\u001B[0;34m(num_list, k)\u001B[0m\n\u001B[1;32m      3\u001B[0m \u001B[38;5;66;03m# Your Code Here \u001B[39;00m\n\u001B[1;32m      4\u001B[0m \u001B[38;5;66;03m# using slicing\u001B[39;00m\n\u001B[1;32m      5\u001B[0m \u001B[38;5;28;01mfor\u001B[39;00m i \u001B[38;5;129;01min\u001B[39;00m \u001B[38;5;28mrange\u001B[39m(\u001B[38;5;28mlen\u001B[39m(num_list) \u001B[38;5;241m-\u001B[39m k \u001B[38;5;241m+\u001B[39m \u001B[38;5;241m1\u001B[39m):\n\u001B[0;32m----> 6\u001B[0m     result\u001B[38;5;241m.\u001B[39mappend(\u001B[38;5;28;43mmax\u001B[39;49m\u001B[43m(\u001B[49m\u001B[43mnum_list\u001B[49m\u001B[43m[\u001B[49m\u001B[43mi\u001B[49m\u001B[43m:\u001B[49m\u001B[43mi\u001B[49m\u001B[43m \u001B[49m\u001B[38;5;241;43m+\u001B[39;49m\u001B[43m \u001B[49m\u001B[43mk\u001B[49m\u001B[43m]\u001B[49m\u001B[43m)\u001B[49m)\n\u001B[1;32m      7\u001B[0m \u001B[38;5;66;03m# End Code Here\u001B[39;00m\n\u001B[1;32m      8\u001B[0m \u001B[38;5;28;01mreturn\u001B[39;00m result\n",
      "\u001B[0;31mTypeError\u001B[0m: 'int' object is not callable"
     ]
    }
   ],
   "source": [
    "# 1\n",
    "def max_kernel(num_list, k):\n",
    "    result = []\n",
    "    # Your Code Here\n",
    "    for i in range(len(num_list) - k + 1):\n",
    "        max_num = num_list[i]\n",
    "        for j in range(1, k):\n",
    "            if num_list[i + j] > max_num:\n",
    "                max_num = num_list[i + j]\n",
    "        result.append(max_num)\n",
    "    # End Code Here\n",
    "    return result\n",
    "\n",
    "\n",
    "assert max_kernel([3, 4, 5, 1, -44], 3) == [5, 5, 5]\n",
    "num_list = [3, 4, 5, 1, -44, 5, 10, 12, 33, 1]\n",
    "k = 3\n",
    "print(max_kernel(num_list, k))"
   ],
   "metadata": {
    "collapsed": false,
    "ExecuteTime": {
     "end_time": "2024-06-17T16:45:01.278568Z",
     "start_time": "2024-06-17T16:45:01.258809Z"
    }
   },
   "id": "ec3fdd5d2c8bd646",
   "execution_count": 34
  },
  {
   "cell_type": "code",
   "outputs": [
    {
     "name": "stdout",
     "output_type": "stream",
     "text": [
      "{'s': 2, 'm': 1, 'i': 1, 'l': 1, 'e': 1}\n"
     ]
    }
   ],
   "source": [
    "# 2\n",
    "def character_count(word):\n",
    "    character_statistic = {}\n",
    "    # Your Code Here\n",
    "    for i in word:\n",
    "        if i not in character_statistic:\n",
    "            character_statistic[i] = 1\n",
    "        else:\n",
    "            character_statistic[i] += 1\n",
    "    # End Code Here\n",
    "    return character_statistic\n",
    "\n",
    "\n",
    "assert character_count(\"Baby\") == {'B': 1, 'a': 1, 'b': 1, 'y': 1}\n",
    "print(character_count('smiles'))"
   ],
   "metadata": {
    "collapsed": false,
    "ExecuteTime": {
     "end_time": "2024-06-17T16:42:00.731354Z",
     "start_time": "2024-06-17T16:42:00.725189Z"
    }
   },
   "id": "cbd7b35e7cfb1406",
   "execution_count": 31
  },
  {
   "cell_type": "code",
   "outputs": [
    {
     "ename": "TypeError",
     "evalue": "'int' object is not callable",
     "output_type": "error",
     "traceback": [
      "\u001B[0;31m---------------------------------------------------------------------------\u001B[0m",
      "\u001B[0;31mTypeError\u001B[0m                                 Traceback (most recent call last)",
      "Cell \u001B[0;32mIn[30], line 45\u001B[0m\n\u001B[1;32m     41\u001B[0m     \u001B[38;5;66;03m# End Code Here\u001B[39;00m\n\u001B[1;32m     42\u001B[0m     \u001B[38;5;28;01mreturn\u001B[39;00m distance\n\u001B[0;32m---> 45\u001B[0m \u001B[38;5;28;01massert\u001B[39;00m \u001B[43mlevenshtein_distance\u001B[49m\u001B[43m(\u001B[49m\u001B[38;5;124;43m\"\u001B[39;49m\u001B[38;5;124;43mhi\u001B[39;49m\u001B[38;5;124;43m\"\u001B[39;49m\u001B[43m,\u001B[49m\u001B[43m \u001B[49m\u001B[38;5;124;43m\"\u001B[39;49m\u001B[38;5;124;43m hello \u001B[39;49m\u001B[38;5;124;43m\"\u001B[39;49m\u001B[43m)\u001B[49m \u001B[38;5;241m==\u001B[39m \u001B[38;5;241m4.0\u001B[39m\n\u001B[1;32m     46\u001B[0m \u001B[38;5;28mprint\u001B[39m(levenshtein_distance(\u001B[38;5;124m\"\u001B[39m\u001B[38;5;124m hola \u001B[39m\u001B[38;5;124m\"\u001B[39m, \u001B[38;5;124m\"\u001B[39m\u001B[38;5;124m hello \u001B[39m\u001B[38;5;124m\"\u001B[39m))\n",
      "Cell \u001B[0;32mIn[30], line 32\u001B[0m, in \u001B[0;36mlevenshtein_distance\u001B[0;34m(token1, token2)\u001B[0m\n\u001B[1;32m     29\u001B[0m     matrix[i][j] \u001B[38;5;241m=\u001B[39m array[j \u001B[38;5;241m-\u001B[39m \u001B[38;5;241m1\u001B[39m]\n\u001B[1;32m     30\u001B[0m \u001B[38;5;28;01melse\u001B[39;00m:\n\u001B[1;32m     31\u001B[0m     \u001B[38;5;66;03m# Gan phan tu cua mang 2 chieu bang phan tu cua mang 1 chieu + 1\u001B[39;00m\n\u001B[0;32m---> 32\u001B[0m     matrix[i][j] \u001B[38;5;241m=\u001B[39m \u001B[38;5;28mmin\u001B[39m(array[j \u001B[38;5;241m-\u001B[39m \u001B[38;5;241m1\u001B[39m] \u001B[38;5;241m+\u001B[39m \u001B[38;5;241m1\u001B[39m, \u001B[38;5;28;43mmin\u001B[39;49m\u001B[43m(\u001B[49m\u001B[43marray2\u001B[49m\u001B[43m[\u001B[49m\u001B[43mj\u001B[49m\u001B[43m]\u001B[49m\u001B[43m \u001B[49m\u001B[38;5;241;43m+\u001B[39;49m\u001B[43m \u001B[49m\u001B[38;5;241;43m1\u001B[39;49m\u001B[43m,\u001B[49m\u001B[43m \u001B[49m\u001B[43marray\u001B[49m\u001B[43m[\u001B[49m\u001B[43mj\u001B[49m\u001B[43m]\u001B[49m\u001B[43m \u001B[49m\u001B[38;5;241;43m+\u001B[39;49m\u001B[43m \u001B[49m\u001B[38;5;241;43m1\u001B[39;49m\u001B[43m)\u001B[49m)\n\u001B[1;32m     33\u001B[0m \u001B[38;5;66;03m# Gan phan tu cua mang 1 chieu bang phan tu cua mang 2 chieu\u001B[39;00m\n\u001B[1;32m     34\u001B[0m array2[j] \u001B[38;5;241m=\u001B[39m matrix[i][j]\n",
      "\u001B[0;31mTypeError\u001B[0m: 'int' object is not callable"
     ]
    }
   ],
   "source": [
    "# 4\n",
    "def levenshtein_distance(token1, token2):\n",
    "    # Your Code Here\n",
    "\n",
    "    # End Code Here\n",
    "    return distance\n",
    "\n",
    "\n",
    "assert levenshtein_distance(\"hi\", \" hello \") == 4.0\n",
    "print(levenshtein_distance(\" hola \", \" hello \"))"
   ],
   "metadata": {
    "collapsed": false,
    "ExecuteTime": {
     "end_time": "2024-06-17T16:40:10.227036Z",
     "start_time": "2024-06-17T16:40:10.195162Z"
    }
   },
   "id": "123c644979e16ed7",
   "execution_count": 30
  },
  {
   "cell_type": "code",
   "outputs": [
    {
     "name": "stdout",
     "output_type": "stream",
     "text": [
      "True\n"
     ]
    }
   ],
   "source": [
    "# 5\n",
    "def check_the_number(N):\n",
    "    list_of_numbers = []\n",
    "    result = \"\"\n",
    "\n",
    "    for i in range(1, 5):\n",
    "        # Your code here\n",
    "        #Su dung append them i vao trong list_of_number\n",
    "        list_of_numbers.append(i)\n",
    "    if N in list_of_numbers:\n",
    "        results = \"True\"\n",
    "    if N not in list_of_numbers:\n",
    "        results = \"False\"\n",
    "    return results\n",
    "\n",
    "\n",
    "N = 7\n",
    "assert check_the_number(N) == \"False\"\n",
    "N = 2\n",
    "results = check_the_number(N)\n",
    "print(results)\n"
   ],
   "metadata": {
    "collapsed": false,
    "ExecuteTime": {
     "end_time": "2024-06-17T16:38:25.658215Z",
     "start_time": "2024-06-17T16:38:25.655449Z"
    }
   },
   "id": "5a2bb4805f84f04",
   "execution_count": 29
  },
  {
   "cell_type": "code",
   "execution_count": 1,
   "id": "initial_id",
   "metadata": {
    "collapsed": true,
    "ExecuteTime": {
     "end_time": "2024-06-17T15:55:26.434787Z",
     "start_time": "2024-06-17T15:55:26.428035Z"
    }
   },
   "outputs": [
    {
     "name": "stdout",
     "output_type": "stream",
     "text": [
      "[2, 2, 2, 1, 1]\n"
     ]
    }
   ],
   "source": [
    "# 6\n",
    "def my_function(data, max, min):\n",
    "    result = []\n",
    "    for i in data:\n",
    "        # Your code here\n",
    "        # Neu i < min thi them min vao result\n",
    "        if i < min:\n",
    "            result.append(min)\n",
    "        elif i > max:\n",
    "            result.append(max)\n",
    "        else:\n",
    "            result.append(i)\n",
    "    return result\n",
    "\n",
    "\n",
    "my_list = [5, 2, 5, 0, 1]\n",
    "max = 1\n",
    "min = 0\n",
    "assert my_function(max=max, min=min, data=my_list) == [1, 1, 1, 0, 1]\n",
    "my_list = [10, 2, 5, 0, 1]\n",
    "max = 2\n",
    "min = 1\n",
    "print(my_function(max=max, min=min, data=my_list))"
   ]
  },
  {
   "cell_type": "code",
   "outputs": [
    {
     "name": "stdout",
     "output_type": "stream",
     "text": [
      "[1, 2, 3, 4, 0, 0]\n"
     ]
    }
   ],
   "source": [
    "# 7\n",
    "def my_function(x, y):\n",
    "    x.extend(y)\n",
    "    return x\n",
    "\n",
    "\n",
    "list_num1 = ['a', 2, 5]\n",
    "list_num2 = [1, 1]\n",
    "list_num3 = [0, 0]\n",
    "assert my_function(list_num1, my_function(list_num2, list_num3)) == ['a', 2, 5, 1, 1, 0, 0]\n",
    "\n",
    "list_num1 = [1, 2]\n",
    "list_num2 = [3, 4]\n",
    "list_num3 = [0, 0]\n",
    "\n",
    "print(my_function(list_num1, my_function(list_num2, list_num3)))"
   ],
   "metadata": {
    "collapsed": false,
    "ExecuteTime": {
     "end_time": "2024-06-17T15:57:23.613723Z",
     "start_time": "2024-06-17T15:57:23.608989Z"
    }
   },
   "id": "9e79f50662c47d11",
   "execution_count": 2
  },
  {
   "cell_type": "code",
   "outputs": [
    {
     "name": "stdout",
     "output_type": "stream",
     "text": [
      "-1\n"
     ]
    }
   ],
   "source": [
    "# 8\n",
    "def my_function(n):\n",
    "    min = n[0]\n",
    "    for i in n:\n",
    "        if i < min:\n",
    "            min = i\n",
    "    return min\n",
    "\n",
    "\n",
    "my_list = [1, 22, 93, -100]\n",
    "assert my_function(my_list) == -100\n",
    "\n",
    "my_list = [1, 2, 3, -1]\n",
    "print(my_function(my_list))"
   ],
   "metadata": {
    "collapsed": false,
    "ExecuteTime": {
     "end_time": "2024-06-17T15:59:18.203475Z",
     "start_time": "2024-06-17T15:59:18.199635Z"
    }
   },
   "id": "284fa11c5d93157a",
   "execution_count": 3
  },
  {
   "cell_type": "code",
   "outputs": [
    {
     "name": "stdout",
     "output_type": "stream",
     "text": [
      "9\n"
     ]
    }
   ],
   "source": [
    "# 9\n",
    "def my_function(n):\n",
    "    max = n[0]\n",
    "    for i in n:\n",
    "        if i > max:\n",
    "            max = i\n",
    "    return max\n",
    "\n",
    "\n",
    "my_list = [1001, 9, 100, 0]\n",
    "assert my_function(my_list) == 1001\n",
    "\n",
    "my_list = [1, 9, 9, 0]\n",
    "print(my_function(my_list))"
   ],
   "metadata": {
    "collapsed": false,
    "ExecuteTime": {
     "end_time": "2024-06-17T16:34:14.871966Z",
     "start_time": "2024-06-17T16:34:14.869254Z"
    }
   },
   "id": "b6b1e54454758844",
   "execution_count": 25
  },
  {
   "cell_type": "code",
   "outputs": [
    {
     "name": "stdout",
     "output_type": "stream",
     "text": [
      "True\n"
     ]
    }
   ],
   "source": [
    "# 10\n",
    "def My_function(integers, number=1):\n",
    "    if number in integers:\n",
    "        return True\n",
    "    else:\n",
    "        return False\n",
    "\n",
    "\n",
    "my_list = [1, 3, 9, 4]\n",
    "assert My_function(my_list, -1) == False\n",
    "\n",
    "my_list = [1, 2, 3, 4]\n",
    "print(My_function(my_list, 2))\n"
   ],
   "metadata": {
    "collapsed": false,
    "ExecuteTime": {
     "end_time": "2024-06-17T16:33:33.010439Z",
     "start_time": "2024-06-17T16:33:33.005775Z"
    }
   },
   "id": "7ea65d081e73e3bb",
   "execution_count": 23
  },
  {
   "cell_type": "code",
   "outputs": [
    {
     "name": "stdout",
     "output_type": "stream",
     "text": [
      "1.0\n"
     ]
    }
   ],
   "source": [
    "# 11\n",
    "def my_function(list_nums=[0, 1, 2]):\n",
    "    var = 0\n",
    "    for i in list_nums:\n",
    "        var += i\n",
    "    return var / len(list_nums)\n",
    "\n",
    "\n",
    "assert my_function([4, 6, 8]) == 6\n",
    "print(my_function())\n"
   ],
   "metadata": {
    "collapsed": false,
    "ExecuteTime": {
     "end_time": "2024-06-17T16:18:41.814459Z",
     "start_time": "2024-06-17T16:18:41.811652Z"
    }
   },
   "id": "5cc6141568538694",
   "execution_count": 15
  },
  {
   "cell_type": "code",
   "outputs": [
    {
     "name": "stdout",
     "output_type": "stream",
     "text": [
      "[3, 6]\n"
     ]
    }
   ],
   "source": [
    "# 12\n",
    "def my_function(data):\n",
    "    var = []\n",
    "    for i in data:\n",
    "        # Your code here\n",
    "        # Neu i chia het cho 3 thi them i vao list var\n",
    "        if i % 3 == 0:\n",
    "            var.append(i)\n",
    "    return var\n",
    "\n",
    "\n",
    "assert my_function([3, 9, 4, 5]) == [3, 9]\n",
    "print(my_function([1, 2, 3, 5, 6]))"
   ],
   "metadata": {
    "collapsed": false,
    "ExecuteTime": {
     "end_time": "2024-06-17T16:32:14.063610Z",
     "start_time": "2024-06-17T16:32:14.059542Z"
    }
   },
   "id": "48a808b14573a6da",
   "execution_count": 21
  },
  {
   "cell_type": "code",
   "outputs": [
    {
     "name": "stdout",
     "output_type": "stream",
     "text": [
      "24\n"
     ]
    }
   ],
   "source": [
    "# 13\n",
    "def my_function(y):\n",
    "    var = 1\n",
    "    while y > 1:\n",
    "        var *= y\n",
    "        y -= 1\n",
    "    return var\n",
    "\n",
    "\n",
    "assert my_function(8) == 40320\n",
    "print(my_function(4))"
   ],
   "metadata": {
    "collapsed": false,
    "ExecuteTime": {
     "end_time": "2024-06-17T16:21:09.539435Z",
     "start_time": "2024-06-17T16:21:09.533011Z"
    }
   },
   "id": "8f0b8e5a7447de9d",
   "execution_count": 17
  },
  {
   "cell_type": "code",
   "outputs": [
    {
     "name": "stdout",
     "output_type": "stream",
     "text": [
      "tocirpa\n"
     ]
    }
   ],
   "source": [
    "# 14\n",
    "def my_function(x):\n",
    "    return x[::-1]\n",
    "\n",
    "\n",
    "x = \"I can do it\"\n",
    "assert my_function(x) == \"ti od nac I\"\n",
    "\n",
    "x = \"apricot\"\n",
    "print(my_function(x))"
   ],
   "metadata": {
    "collapsed": false,
    "ExecuteTime": {
     "end_time": "2024-06-17T16:23:13.018612Z",
     "start_time": "2024-06-17T16:23:13.014746Z"
    }
   },
   "id": "39619cb3e82f96db",
   "execution_count": 18
  },
  {
   "cell_type": "code",
   "outputs": [
    {
     "name": "stdout",
     "output_type": "stream",
     "text": [
      "['T', 'T', 'T', 'N']\n"
     ]
    }
   ],
   "source": [
    "# 15\n",
    "def function_helper(x):\n",
    "    if x > 0:\n",
    "        return 'T'\n",
    "    else:\n",
    "        return 'N'\n",
    "\n",
    "\n",
    "def my_function(data):\n",
    "    res = [function_helper(x) for x in data]\n",
    "    return res\n",
    "\n",
    "\n",
    "data = [10, 0, -10, -1]\n",
    "assert my_function(data) == ['T', 'N', 'N', 'N']\n",
    "\n",
    "data = [2, 3, 5, -1]\n",
    "print(my_function(data))"
   ],
   "metadata": {
    "collapsed": false,
    "ExecuteTime": {
     "end_time": "2024-06-17T16:27:42.277292Z",
     "start_time": "2024-06-17T16:27:42.271775Z"
    }
   },
   "id": "6e725ef48a93c540",
   "execution_count": 19
  },
  {
   "cell_type": "code",
   "outputs": [
    {
     "name": "stdout",
     "output_type": "stream",
     "text": [
      "[9, 8, 1]\n"
     ]
    }
   ],
   "source": [
    "# 16\n",
    "def function_helper(x, data):\n",
    "    for i in data:\n",
    "        # Your code here\n",
    "        # Neu x == i thi return 0\n",
    "        if x == i:\n",
    "            return 0\n",
    "    return 1\n",
    "\n",
    "\n",
    "def my_function(data):\n",
    "    res = []\n",
    "    for i in data:\n",
    "        if function_helper(i, res):\n",
    "            res.append(i)\n",
    "    return res\n",
    "\n",
    "\n",
    "lst = [10, 10, 9, 7, 7]\n",
    "assert my_function(lst) == [10, 9, 7]\n",
    "\n",
    "lst = [9, 9, 8, 1, 1]\n",
    "print(my_function(lst))"
   ],
   "metadata": {
    "collapsed": false,
    "ExecuteTime": {
     "end_time": "2024-06-17T16:29:42.860767Z",
     "start_time": "2024-06-17T16:29:42.856888Z"
    }
   },
   "id": "ae2b3d1b6ea02566",
   "execution_count": 20
  },
  {
   "cell_type": "code",
   "outputs": [],
   "source": [],
   "metadata": {
    "collapsed": false
   },
   "id": "c50b88730d1a5106"
  }
 ],
 "metadata": {
  "kernelspec": {
   "display_name": "Python 3",
   "language": "python",
   "name": "python3"
  },
  "language_info": {
   "codemirror_mode": {
    "name": "ipython",
    "version": 2
   },
   "file_extension": ".py",
   "mimetype": "text/x-python",
   "name": "python",
   "nbconvert_exporter": "python",
   "pygments_lexer": "ipython2",
   "version": "2.7.6"
  }
 },
 "nbformat": 4,
 "nbformat_minor": 5
}
